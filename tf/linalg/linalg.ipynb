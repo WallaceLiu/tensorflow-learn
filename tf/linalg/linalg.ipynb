{
 "cells": [
  {
   "cell_type": "markdown",
   "metadata": {},
   "source": [
    "https://tensorflow.google.cn/api_docs/python/tf/linalg"
   ]
  },
  {
   "cell_type": "code",
   "execution_count": 1,
   "metadata": {},
   "outputs": [],
   "source": [
    "import tensorflow as tf"
   ]
  },
  {
   "cell_type": "code",
   "execution_count": 2,
   "metadata": {},
   "outputs": [
    {
     "data": {
      "text/plain": [
       "<tf.Tensor: id=2, shape=(3, 2), dtype=complex128, numpy=\n",
       "array([[1.-1.j, 4.-4.j],\n",
       "       [2.-2.j, 5.-5.j],\n",
       "       [3.-3.j, 6.-6.j]])>"
      ]
     },
     "execution_count": 2,
     "metadata": {},
     "output_type": "execute_result"
    }
   ],
   "source": [
    "# adjoint\n",
    "# Transposes the last two dimensions of and conjugates tensor matrix.\n",
    "# The adjoint (a.k.a. Hermitian transpose a.k.a. conjugate transpose) of matrix.\n",
    "x = tf.constant([[1 + 1j, 2 + 2j, 3 + 3j],\n",
    "                 [4 + 4j, 5 + 5j, 6 + 6j]])\n",
    "y=tf.linalg.adjoint(x)  \n",
    "# [[1 - 1j, 4 - 4j],\n",
    "#  [2 - 2j, 5 - 5j],\n",
    "#  [3 - 3j, 6 - 6j]]\n",
    "y"
   ]
  },
  {
   "cell_type": "code",
   "execution_count": 3,
   "metadata": {},
   "outputs": [
    {
     "data": {
      "text/plain": [
       "<tf.Tensor: id=9, shape=(4, 4), dtype=int32, numpy=\n",
       "array([[ 0,  1,  0,  0],\n",
       "       [-1,  0,  1,  0],\n",
       "       [-2, -1,  0,  1],\n",
       "       [ 0, -2, -1,  0]], dtype=int32)>"
      ]
     },
     "execution_count": 3,
     "metadata": {},
     "output_type": "execute_result"
    }
   ],
   "source": [
    "# band_part\n",
    "x = tf.constant([[ 0,  1,  2, 3],\n",
    "                 [-1,  0,  1, 2],\n",
    "                 [-2, -1,  0, 1],\n",
    "                 [-3, -2, -1, 0]])\n",
    "tf.linalg.band_part(x, 1, -1)\n",
    "# [[ 0,  1,  2, 3]\n",
    "# [-1,  0,  1, 2]\n",
    "# [ 0, -1,  0, 1]\n",
    "# [ 0,  0, -1, 0]]\n",
    "tf.linalg.band_part(x, 2, 1) \n",
    "# [[ 0,  1,  0, 0]\n",
    "# [-1,  0,  1, 0]\n",
    "# [-2, -1,  0, 1]\n",
    "# [ 0, -2, -1, 0]]"
   ]
  },
  {
   "cell_type": "code",
   "execution_count": 4,
   "metadata": {},
   "outputs": [
    {
     "ename": "NotFoundError",
     "evalue": "Could not find valid device for node.\nNode:{{node Cholesky}}\nAll kernels registered for op Cholesky :\n  device='CPU'; T in [DT_FLOAT]\n  device='CPU'; T in [DT_DOUBLE]\n  device='CPU'; T in [DT_COMPLEX64]\n  device='CPU'; T in [DT_COMPLEX128]\n [Op:Cholesky]",
     "output_type": "error",
     "traceback": [
      "\u001b[0;31m---------------------------------------------------------------------------\u001b[0m",
      "\u001b[0;31mNotFoundError\u001b[0m                             Traceback (most recent call last)",
      "\u001b[0;32m<ipython-input-4-8ecf4b81b4a3>\u001b[0m in \u001b[0;36m<module>\u001b[0;34m\u001b[0m\n\u001b[1;32m      4\u001b[0m                  \u001b[0;34m[\u001b[0m\u001b[0;34m-\u001b[0m\u001b[0;36m2\u001b[0m\u001b[0;34m,\u001b[0m \u001b[0;34m-\u001b[0m\u001b[0;36m1\u001b[0m\u001b[0;34m,\u001b[0m  \u001b[0;36m0\u001b[0m\u001b[0;34m,\u001b[0m \u001b[0;36m1\u001b[0m\u001b[0;34m]\u001b[0m\u001b[0;34m,\u001b[0m\u001b[0;34m\u001b[0m\u001b[0;34m\u001b[0m\u001b[0m\n\u001b[1;32m      5\u001b[0m                  [-3, -2, -1, 0]])\n\u001b[0;32m----> 6\u001b[0;31m \u001b[0mtf\u001b[0m\u001b[0;34m.\u001b[0m\u001b[0mlinalg\u001b[0m\u001b[0;34m.\u001b[0m\u001b[0mcholesky\u001b[0m\u001b[0;34m(\u001b[0m\u001b[0mx\u001b[0m\u001b[0;34m)\u001b[0m\u001b[0;34m\u001b[0m\u001b[0;34m\u001b[0m\u001b[0m\n\u001b[0m",
      "\u001b[0;32m~/.conda/envs/myfaiss/lib/python3.7/site-packages/tensorflow_core/python/ops/gen_linalg_ops.py\u001b[0m in \u001b[0;36mcholesky\u001b[0;34m(input, name)\u001b[0m\n\u001b[1;32m    814\u001b[0m       \u001b[0;32melse\u001b[0m\u001b[0;34m:\u001b[0m\u001b[0;34m\u001b[0m\u001b[0;34m\u001b[0m\u001b[0m\n\u001b[1;32m    815\u001b[0m         \u001b[0mmessage\u001b[0m \u001b[0;34m=\u001b[0m \u001b[0me\u001b[0m\u001b[0;34m.\u001b[0m\u001b[0mmessage\u001b[0m\u001b[0;34m\u001b[0m\u001b[0;34m\u001b[0m\u001b[0m\n\u001b[0;32m--> 816\u001b[0;31m       \u001b[0m_six\u001b[0m\u001b[0;34m.\u001b[0m\u001b[0mraise_from\u001b[0m\u001b[0;34m(\u001b[0m\u001b[0m_core\u001b[0m\u001b[0;34m.\u001b[0m\u001b[0m_status_to_exception\u001b[0m\u001b[0;34m(\u001b[0m\u001b[0me\u001b[0m\u001b[0;34m.\u001b[0m\u001b[0mcode\u001b[0m\u001b[0;34m,\u001b[0m \u001b[0mmessage\u001b[0m\u001b[0;34m)\u001b[0m\u001b[0;34m,\u001b[0m \u001b[0;32mNone\u001b[0m\u001b[0;34m)\u001b[0m\u001b[0;34m\u001b[0m\u001b[0;34m\u001b[0m\u001b[0m\n\u001b[0m\u001b[1;32m    817\u001b[0m   \u001b[0;31m# Add nodes to the TensorFlow graph.\u001b[0m\u001b[0;34m\u001b[0m\u001b[0;34m\u001b[0m\u001b[0;34m\u001b[0m\u001b[0m\n\u001b[1;32m    818\u001b[0m   \u001b[0;32mtry\u001b[0m\u001b[0;34m:\u001b[0m\u001b[0;34m\u001b[0m\u001b[0;34m\u001b[0m\u001b[0m\n",
      "\u001b[0;32m~/.conda/envs/myfaiss/lib/python3.7/site-packages/six.py\u001b[0m in \u001b[0;36mraise_from\u001b[0;34m(value, from_value)\u001b[0m\n",
      "\u001b[0;31mNotFoundError\u001b[0m: Could not find valid device for node.\nNode:{{node Cholesky}}\nAll kernels registered for op Cholesky :\n  device='CPU'; T in [DT_FLOAT]\n  device='CPU'; T in [DT_DOUBLE]\n  device='CPU'; T in [DT_COMPLEX64]\n  device='CPU'; T in [DT_COMPLEX128]\n [Op:Cholesky]"
     ]
    }
   ],
   "source": [
    "# Computes the Cholesky decomposition of one or more square matrices.\n",
    "# 分解是把一个对称正定的矩阵表示成一个下三角矩阵L和其转置的乘积的分解。\n",
    "# 它要求矩阵的所有特征值必须大于零，故分解的下三角的对角元也是大于零的。\n",
    "# Cholesky分解法又称平方根法，是当A为实对称正定矩阵时，LU三角分解法的变形。\n",
    "x = tf.constant([[ 0,  1,  2, 3],\n",
    "                 [-1,  0,  1, 2],\n",
    "                 [-2, -1,  0, 1],\n",
    "                 [-3, -2, -1, 0]])\n",
    "# tf.linalg.cholesky(x)"
   ]
  },
  {
   "cell_type": "code",
   "execution_count": 6,
   "metadata": {},
   "outputs": [
    {
     "data": {
      "text/plain": [
       "<tf.Tensor: id=12, shape=(2, 4, 4), dtype=int64, numpy=\n",
       "array([[[1, 0, 0, 0],\n",
       "        [0, 2, 0, 0],\n",
       "        [0, 0, 3, 0],\n",
       "        [0, 0, 0, 4]],\n",
       "\n",
       "       [[5, 0, 0, 0],\n",
       "        [0, 6, 0, 0],\n",
       "        [0, 0, 7, 0],\n",
       "        [0, 0, 0, 8]]])>"
      ]
     },
     "execution_count": 6,
     "metadata": {},
     "output_type": "execute_result"
    }
   ],
   "source": [
    "# diag\n",
    "# The main diagonal.\n",
    "import numpy as np\n",
    "\n",
    "diagonal = np.array([[1, 2, 3, 4],            # Input shape: (2, 4)\n",
    "                     [5, 6, 7, 8]])\n",
    "tf.linalg.diag(diagonal) \n",
    "# [[[1, 0, 0, 0],  # Output shape: (2, 4, 4)\n",
    "# [0, 2, 0, 0],\n",
    "# [0, 0, 3, 0],\n",
    "# [0, 0, 0, 4]],\n",
    "# [[5, 0, 0, 0],\n",
    "# [0, 6, 0, 0],\n",
    "# [0, 0, 7, 0],\n",
    "# [0, 0, 0, 8]]]\n",
    "\n",
    "# # A superdiagonal (per batch).\n",
    "# diagonal = np.array([[1, 2, 3],  # Input shape: (2, 3)\n",
    "#                      [4, 5, 6]])\n",
    "# tf.matrix_diag(diagonal, k = 1)\n",
    "#   ==> [[[0, 1, 0, 0],  # Output shape: (2, 4, 4)\n",
    "#         [0, 0, 2, 0],\n",
    "#         [0, 0, 0, 3],\n",
    "#         [0, 0, 0, 0]],\n",
    "#        [[0, 4, 0, 0],\n",
    "#         [0, 0, 5, 0],\n",
    "#         [0, 0, 0, 6],\n",
    "#         [0, 0, 0, 0]]]\n",
    "\n",
    "# # A band of diagonals.\n",
    "# diagonals = np.array([[[1, 2, 3],  # Input shape: (2, 2, 3)\n",
    "#                        [4, 5, 0]],\n",
    "#                       [[6, 7, 9],\n",
    "#                        [9, 1, 0]]])\n",
    "# tf.matrix_diag(diagonals, k = (-1, 0))\n",
    "#   ==> [[[1, 0, 0],  # Output shape: (2, 3, 3)\n",
    "#         [4, 2, 0],\n",
    "#         [0, 5, 3]],\n",
    "#        [[6, 0, 0],\n",
    "#         [9, 7, 0],\n",
    "#         [0, 1, 9]]]\n",
    "\n",
    "# # Rectangular matrix.\n",
    "# diagonal = np.array([1, 2])  # Input shape: (2)\n",
    "# tf.matrix_diag(diagonal, k = -1, num_rows = 3, num_cols = 4)\n",
    "#   ==> [[0, 0, 0, 0],  # Output shape: (3, 4)\n",
    "#        [1, 0, 0, 0],\n",
    "#        [0, 2, 0, 0]]\n",
    "\n",
    "# # Rectangular matrix with inferred num_cols and padding_value = 9.\n",
    "# tf.matrix_diag(diagonal, k = -1, num_rows = 3, padding_value = 9)\n",
    "#   ==> [[9, 9],  # Output shape: (3, 2)\n",
    "#        [1, 9],\n",
    "#        [9, 2]]"
   ]
  },
  {
   "cell_type": "markdown",
   "metadata": {},
   "source": [
    "# Classes"
   ]
  },
  {
   "cell_type": "markdown",
   "metadata": {},
   "source": [
    "class LinearOperator: Base class defining a [batch of] linear operator[s].\n",
    "\n",
    "class LinearOperatorAdjoint: LinearOperator representing the adjoint of another operator.\n",
    "\n",
    "class LinearOperatorBlockDiag: Combines one or more LinearOperators in to a Block Diagonal matrix.\n",
    "\n",
    "class LinearOperatorCirculant: LinearOperator acting like a circulant matrix.\n",
    "\n",
    "class LinearOperatorCirculant2D: LinearOperator acting like a block circulant matrix.\n",
    "\n",
    "class LinearOperatorCirculant3D: LinearOperator acting like a nested block circulant matrix.\n",
    "\n",
    "class LinearOperatorComposition: Composes one or more LinearOperators.\n",
    "\n",
    "class LinearOperatorDiag: LinearOperator acting like a [batch] square diagonal matrix.\n",
    "\n",
    "class LinearOperatorFullMatrix: LinearOperator that wraps a [batch] matrix.\n",
    "\n",
    "class LinearOperatorHouseholder: LinearOperator acting like a [batch] of Householder transformations.\n",
    "\n",
    "class LinearOperatorIdentity: LinearOperator acting like a [batch] square identity matrix.\n",
    "\n",
    "class LinearOperatorInversion: LinearOperator representing the inverse of another operator.\n",
    "\n",
    "class LinearOperatorKronecker: Kronecker product between two LinearOperators.\n",
    "\n",
    "class LinearOperatorLowRankUpdate: Perturb a LinearOperator with a rank K update.\n",
    "\n",
    "class LinearOperatorLowerTriangular: LinearOperator acting like a [batch] square lower triangular matrix.\n",
    "\n",
    "class LinearOperatorPermutation: LinearOperator acting like a [batch] of permutation matrices.\n",
    "\n",
    "class LinearOperatorScaledIdentity: LinearOperator acting like a scaled [batch] identity matrix A = c I.\n",
    "\n",
    "class LinearOperatorToeplitz: LinearOperator acting like a [batch] of toeplitz matrices.\n",
    "\n",
    "class LinearOperatorZeros: LinearOperator acting like a [batch] zero matrix."
   ]
  },
  {
   "cell_type": "markdown",
   "metadata": {},
   "source": [
    "# Functions"
   ]
  },
  {
   "cell_type": "markdown",
   "metadata": {},
   "source": [
    "adjoint(...): Transposes the last two dimensions of and conjugates tensor matrix.\n",
    "\n",
    "band_part(...): Copy a tensor setting everything outside a central band in each innermost matrix\n",
    "\n",
    "cholesky(...): Computes the Cholesky decomposition of one or more square matrices.\n",
    "\n",
    "cholesky_solve(...): Solves systems of linear eqns A X = RHS, given Cholesky factorizations.\n",
    "\n",
    "cross(...): Compute the pairwise cross product.\n",
    "\n",
    "det(...): Computes the determinant of one or more square matrices.\n",
    "\n",
    "diag(...): Returns a batched diagonal tensor with given batched diagonal values.\n",
    "\n",
    "diag_part(...): Returns the batched diagonal part of a batched tensor.\n",
    "\n",
    "eig(...): Computes the eigen decomposition of a batch of matrices.\n",
    "\n",
    "eigh(...): Computes the eigen decomposition of a batch of self-adjoint matrices.\n",
    "\n",
    "eigvals(...): Computes the eigenvalues of one or more matrices.\n",
    "\n",
    "eigvalsh(...): Computes the eigenvalues of one or more self-adjoint matrices.\n",
    "\n",
    "einsum(...): Tensor contraction over specified indices and outer product.\n",
    "\n",
    "expm(...): Computes the matrix exponential of one or more square matrices.\n",
    "\n",
    "eye(...): Construct an identity matrix, or a batch of matrices.\n",
    "\n",
    "global_norm(...): Computes the global norm of multiple tensors.\n",
    "\n",
    "inv(...): Computes the inverse of one or more square invertible matrices or their\n",
    "\n",
    "l2_normalize(...): Normalizes along dimension axis using an L2 norm.\n",
    "\n",
    "logdet(...): Computes log of the determinant of a hermitian positive definite matrix.\n",
    "\n",
    "logm(...): Computes the matrix logarithm of one or more square matrices:\n",
    "\n",
    "lstsq(...): Solves one or more linear least-squares problems.\n",
    "\n",
    "lu(...): Computes the LU decomposition of one or more square matrices.\n",
    "\n",
    "lu_matrix_inverse(...): Computes the inverse given the LU decomposition(s) of one or more matrices.\n",
    "\n",
    "lu_reconstruct(...): The reconstruct one or more matrices from their LU decomposition(s).\n",
    "\n",
    "lu_solve(...): Solves systems of linear eqns A X = RHS, given LU factorizations.\n",
    "\n",
    "matmul(...): Multiplies matrix a by matrix b, producing a * b.\n",
    "\n",
    "matrix_rank(...): Compute the matrix rank of one or more matrices.\n",
    "\n",
    "matrix_transpose(...): Transposes last two dimensions of tensor a.\n",
    "\n",
    "matvec(...): Multiplies matrix a by vector b, producing a * b.\n",
    "\n",
    "norm(...): Computes the norm of vectors, matrices, and tensors.\n",
    "\n",
    "normalize(...): Normalizes tensor along dimension axis using specified norm.\n",
    "\n",
    "pinv(...): Compute the Moore-Penrose pseudo-inverse of one or more matrices.\n",
    "\n",
    "qr(...): Computes the QR decompositions of one or more matrices.\n",
    "\n",
    "set_diag(...): Returns a batched matrix tensor with new batched diagonal values.\n",
    "\n",
    "slogdet(...): Computes the sign and the log of the absolute value of the determinant of\n",
    "\n",
    "solve(...): Solves systems of linear equations.\n",
    "\n",
    "sqrtm(...): Computes the matrix square root of one or more square matrices:\n",
    "\n",
    "svd(...): Computes the singular value decompositions of one or more matrices.\n",
    "\n",
    "tensor_diag(...): Returns a diagonal tensor with a given diagonal values.\n",
    "\n",
    "tensor_diag_part(...): Returns the diagonal part of the tensor.\n",
    "\n",
    "tensordot(...): Tensor contraction of a and b along specified axes and outer product.\n",
    "\n",
    "trace(...): Compute the trace of a tensor x.\n",
    "\n",
    "triangular_solve(...): Solves systems of linear equations with upper or lower triangular matrices by backsubstitution.\n",
    "\n",
    "tridiagonal_matmul(...): Multiplies tridiagonal matrix by matrix.\n",
    "\n",
    "tridiagonal_solve(...): Solves tridiagonal systems of equations."
   ]
  },
  {
   "cell_type": "code",
   "execution_count": null,
   "metadata": {},
   "outputs": [],
   "source": []
  }
 ],
 "metadata": {
  "kernelspec": {
   "display_name": "Python 3",
   "language": "python",
   "name": "python3"
  },
  "language_info": {
   "codemirror_mode": {
    "name": "ipython",
    "version": 3
   },
   "file_extension": ".py",
   "mimetype": "text/x-python",
   "name": "python",
   "nbconvert_exporter": "python",
   "pygments_lexer": "ipython3",
   "version": "3.7.5"
  }
 },
 "nbformat": 4,
 "nbformat_minor": 2
}
